{
 "cells": [
  {
   "cell_type": "markdown",
   "metadata": {},
   "source": [
    "# Twitter Analysis of @borussia account"
   ]
  },
  {
   "cell_type": "markdown",
   "metadata": {},
   "source": [
    "## Getting Data"
   ]
  },
  {
   "cell_type": "code",
   "execution_count": 2,
   "metadata": {},
   "outputs": [],
   "source": [
    "import tweepy\n",
    "import pandas as pd\n",
    "import numpy as np\n",
    "from sklearn.datasets import load_iris\n",
    "import matplotlib.pyplot as plt\n",
    "from wordcloud import WordCloud, STOPWORDS"
   ]
  },
  {
   "cell_type": "markdown",
   "metadata": {},
   "source": [
    "Loading variables from Twitter developer account (dont want to show them to the public)"
   ]
  },
  {
   "cell_type": "code",
   "execution_count": 3,
   "metadata": {},
   "outputs": [],
   "source": [
    "consumer_key='fk1WXQHHuOKtDW08S8koKHJUx'\n",
    "consumer_secret='YixJ1JSVmUW3eerSCF3Xk5i44LHjWEqaomW16wc3e68zyKAl2X'\n",
    "access_token='910844887154733056-at915GYCu1CUdo9fmyx2le2LAgMgG4e'\n",
    "access_token_secret='SCL4zPt2f3y7YaVUCfIYo8G31IBP0PtcMFKf3gteij9B1'"
   ]
  },
  {
   "cell_type": "code",
   "execution_count": 4,
   "metadata": {},
   "outputs": [],
   "source": [
    "auth = tweepy.OAuthHandler(consumer_key, consumer_secret)\n",
    "auth.set_access_token(access_token, access_token_secret)\n",
    "api = tweepy.API(auth)\n"
   ]
  },
  {
   "cell_type": "markdown",
   "metadata": {},
   "source": [
    "Creating lists to store the information from twitter account"
   ]
  },
  {
   "cell_type": "code",
   "execution_count": 5,
   "metadata": {},
   "outputs": [],
   "source": [
    "number_of_tweets = 3000\n",
    "tweets = []\n",
    "likes = []\n",
    "time = []\n",
    "source = []\n",
    "coordinates = []\n",
    "retweets = []\n",
    "\n",
    "\n",
    "for i in tweepy.Cursor(api.user_timeline, screen_name='borussia', tweet_mode = \"extended\").items(number_of_tweets):\n",
    "    tweets.append(i.full_text)\n",
    "    likes.append(i.favorite_count)\n",
    "    time.append(i.created_at)\n",
    "    source.append(i.source)\n",
    "    coordinates.append(i.coordinates)\n",
    "    retweets.append(i.retweet_count)"
   ]
  },
  {
   "cell_type": "markdown",
   "metadata": {},
   "source": [
    "Create a dataframe with the extracted variables"
   ]
  },
  {
   "cell_type": "code",
   "execution_count": 6,
   "metadata": {},
   "outputs": [],
   "source": [
    "df = pd.DataFrame({'tweets':tweets, 'likes':likes, 'time':time, 'source':source, 'coordinates':coordinates, 'retweets':retweets})"
   ]
  },
  {
   "cell_type": "markdown",
   "metadata": {},
   "source": [
    "## Analyze and Clean Data"
   ]
  },
  {
   "cell_type": "code",
   "execution_count": 7,
   "metadata": {},
   "outputs": [
    {
     "name": "stdout",
     "output_type": "stream",
     "text": [
      "<class 'pandas.core.frame.DataFrame'>\n",
      "RangeIndex: 3000 entries, 0 to 2999\n",
      "Data columns (total 6 columns):\n",
      " #   Column       Non-Null Count  Dtype              \n",
      "---  ------       --------------  -----              \n",
      " 0   tweets       3000 non-null   object             \n",
      " 1   likes        3000 non-null   int64              \n",
      " 2   time         3000 non-null   datetime64[ns, UTC]\n",
      " 3   source       3000 non-null   object             \n",
      " 4   coordinates  0 non-null      object             \n",
      " 5   retweets     3000 non-null   int64              \n",
      "dtypes: datetime64[ns, UTC](1), int64(2), object(3)\n",
      "memory usage: 140.8+ KB\n"
     ]
    }
   ],
   "source": [
    "df.info()"
   ]
  },
  {
   "cell_type": "code",
   "execution_count": 8,
   "metadata": {},
   "outputs": [
    {
     "data": {
      "text/html": [
       "<div>\n",
       "<style scoped>\n",
       "    .dataframe tbody tr th:only-of-type {\n",
       "        vertical-align: middle;\n",
       "    }\n",
       "\n",
       "    .dataframe tbody tr th {\n",
       "        vertical-align: top;\n",
       "    }\n",
       "\n",
       "    .dataframe thead th {\n",
       "        text-align: right;\n",
       "    }\n",
       "</style>\n",
       "<table border=\"1\" class=\"dataframe\">\n",
       "  <thead>\n",
       "    <tr style=\"text-align: right;\">\n",
       "      <th></th>\n",
       "      <th>likes</th>\n",
       "      <th>retweets</th>\n",
       "    </tr>\n",
       "  </thead>\n",
       "  <tbody>\n",
       "    <tr>\n",
       "      <th>count</th>\n",
       "      <td>3000.000000</td>\n",
       "      <td>3000.000000</td>\n",
       "    </tr>\n",
       "    <tr>\n",
       "      <th>mean</th>\n",
       "      <td>168.351333</td>\n",
       "      <td>7.251667</td>\n",
       "    </tr>\n",
       "    <tr>\n",
       "      <th>std</th>\n",
       "      <td>441.954745</td>\n",
       "      <td>40.673641</td>\n",
       "    </tr>\n",
       "    <tr>\n",
       "      <th>min</th>\n",
       "      <td>0.000000</td>\n",
       "      <td>0.000000</td>\n",
       "    </tr>\n",
       "    <tr>\n",
       "      <th>25%</th>\n",
       "      <td>46.000000</td>\n",
       "      <td>1.000000</td>\n",
       "    </tr>\n",
       "    <tr>\n",
       "      <th>50%</th>\n",
       "      <td>89.000000</td>\n",
       "      <td>3.000000</td>\n",
       "    </tr>\n",
       "    <tr>\n",
       "      <th>75%</th>\n",
       "      <td>178.000000</td>\n",
       "      <td>5.000000</td>\n",
       "    </tr>\n",
       "    <tr>\n",
       "      <th>max</th>\n",
       "      <td>12133.000000</td>\n",
       "      <td>1711.000000</td>\n",
       "    </tr>\n",
       "  </tbody>\n",
       "</table>\n",
       "</div>"
      ],
      "text/plain": [
       "              likes     retweets\n",
       "count   3000.000000  3000.000000\n",
       "mean     168.351333     7.251667\n",
       "std      441.954745    40.673641\n",
       "min        0.000000     0.000000\n",
       "25%       46.000000     1.000000\n",
       "50%       89.000000     3.000000\n",
       "75%      178.000000     5.000000\n",
       "max    12133.000000  1711.000000"
      ]
     },
     "execution_count": 8,
     "metadata": {},
     "output_type": "execute_result"
    }
   ],
   "source": [
    "# Checking the numerical variables\n",
    "df.describe()"
   ]
  },
  {
   "cell_type": "code",
   "execution_count": 9,
   "metadata": {},
   "outputs": [
    {
     "data": {
      "text/plain": [
       "array([None], dtype=object)"
      ]
     },
     "execution_count": 9,
     "metadata": {},
     "output_type": "execute_result"
    }
   ],
   "source": [
    "# How many different value are there in the column 'coordinates'? Should I drop this column?\n",
    "df['coordinates'].unique()\n"
   ]
  },
  {
   "cell_type": "code",
   "execution_count": 10,
   "metadata": {},
   "outputs": [],
   "source": [
    "df = df.drop('coordinates', axis=1)\n"
   ]
  },
  {
   "cell_type": "code",
   "execution_count": 11,
   "metadata": {},
   "outputs": [
    {
     "data": {
      "text/html": [
       "<div>\n",
       "<style scoped>\n",
       "    .dataframe tbody tr th:only-of-type {\n",
       "        vertical-align: middle;\n",
       "    }\n",
       "\n",
       "    .dataframe tbody tr th {\n",
       "        vertical-align: top;\n",
       "    }\n",
       "\n",
       "    .dataframe thead th {\n",
       "        text-align: right;\n",
       "    }\n",
       "</style>\n",
       "<table border=\"1\" class=\"dataframe\">\n",
       "  <thead>\n",
       "    <tr style=\"text-align: right;\">\n",
       "      <th></th>\n",
       "      <th>tweets</th>\n",
       "      <th>likes</th>\n",
       "      <th>time</th>\n",
       "      <th>source</th>\n",
       "      <th>retweets</th>\n",
       "    </tr>\n",
       "  </thead>\n",
       "  <tbody>\n",
       "    <tr>\n",
       "      <th>0</th>\n",
       "      <td>Einfach nur 🫶\\n\\nDanke für euren unfassbaren S...</td>\n",
       "      <td>253</td>\n",
       "      <td>2022-07-10 16:44:29+00:00</td>\n",
       "      <td>Twitter for iPhone</td>\n",
       "      <td>4</td>\n",
       "    </tr>\n",
       "    <tr>\n",
       "      <th>1</th>\n",
       "      <td>🍿 Die Highlights vom Spiel 🆚 1860 München sind...</td>\n",
       "      <td>94</td>\n",
       "      <td>2022-07-10 16:23:29+00:00</td>\n",
       "      <td>Twitter for iPhone</td>\n",
       "      <td>4</td>\n",
       "    </tr>\n",
       "    <tr>\n",
       "      <th>2</th>\n",
       "      <td>Zweiter Test, zweiter Sieg. 🤙\\n\\n#DieFohlen #B...</td>\n",
       "      <td>275</td>\n",
       "      <td>2022-07-10 15:13:03+00:00</td>\n",
       "      <td>Twitter for iPhone</td>\n",
       "      <td>13</td>\n",
       "    </tr>\n",
       "    <tr>\n",
       "      <th>3</th>\n",
       "      <td>Feierabend! #DieFohlen gewinnen zum Abschluss ...</td>\n",
       "      <td>393</td>\n",
       "      <td>2022-07-10 14:16:58+00:00</td>\n",
       "      <td>Twitter Web App</td>\n",
       "      <td>10</td>\n",
       "    </tr>\n",
       "    <tr>\n",
       "      <th>4</th>\n",
       "      <td>70‘: Doppelpack Flaco! 6:0.\\n\\n#BMGM60 #BMGamT...</td>\n",
       "      <td>129</td>\n",
       "      <td>2022-07-10 13:40:15+00:00</td>\n",
       "      <td>Twitter for iPhone</td>\n",
       "      <td>4</td>\n",
       "    </tr>\n",
       "    <tr>\n",
       "      <th>...</th>\n",
       "      <td>...</td>\n",
       "      <td>...</td>\n",
       "      <td>...</td>\n",
       "      <td>...</td>\n",
       "      <td>...</td>\n",
       "    </tr>\n",
       "    <tr>\n",
       "      <th>2920</th>\n",
       "      <td>Hütter: @jjscally_10 hat heute wieder mit uns ...</td>\n",
       "      <td>7</td>\n",
       "      <td>2021-11-18 12:06:35+00:00</td>\n",
       "      <td>Twitter Web App</td>\n",
       "      <td>0</td>\n",
       "    </tr>\n",
       "    <tr>\n",
       "      <th>2921</th>\n",
       "      <td>Hütter: Bei @bensebainiRams hoffen wir, dass e...</td>\n",
       "      <td>8</td>\n",
       "      <td>2021-11-18 12:06:04+00:00</td>\n",
       "      <td>Twitter Web App</td>\n",
       "      <td>0</td>\n",
       "    </tr>\n",
       "    <tr>\n",
       "      <th>2922</th>\n",
       "      <td>Sportdirektor Max Eberl und Cheftrainer Adi Hü...</td>\n",
       "      <td>6</td>\n",
       "      <td>2021-11-18 12:01:53+00:00</td>\n",
       "      <td>Twitter Web App</td>\n",
       "      <td>0</td>\n",
       "    </tr>\n",
       "    <tr>\n",
       "      <th>2923</th>\n",
       "      <td>🎙 Spieltags-PK mit Max Eberl &amp;amp; Adi Hütter\\...</td>\n",
       "      <td>50</td>\n",
       "      <td>2021-11-18 11:31:10+00:00</td>\n",
       "      <td>Twitter Web App</td>\n",
       "      <td>2</td>\n",
       "    </tr>\n",
       "    <tr>\n",
       "      <th>2924</th>\n",
       "      <td>Borussia x @UFLgame\\n\\nDemnächst erscheint die...</td>\n",
       "      <td>868</td>\n",
       "      <td>2021-11-18 09:38:14+00:00</td>\n",
       "      <td>Twitter Web App</td>\n",
       "      <td>65</td>\n",
       "    </tr>\n",
       "  </tbody>\n",
       "</table>\n",
       "<p>2925 rows × 5 columns</p>\n",
       "</div>"
      ],
      "text/plain": [
       "                                                 tweets  likes  \\\n",
       "0     Einfach nur 🫶\\n\\nDanke für euren unfassbaren S...    253   \n",
       "1     🍿 Die Highlights vom Spiel 🆚 1860 München sind...     94   \n",
       "2     Zweiter Test, zweiter Sieg. 🤙\\n\\n#DieFohlen #B...    275   \n",
       "3     Feierabend! #DieFohlen gewinnen zum Abschluss ...    393   \n",
       "4     70‘: Doppelpack Flaco! 6:0.\\n\\n#BMGM60 #BMGamT...    129   \n",
       "...                                                 ...    ...   \n",
       "2920  Hütter: @jjscally_10 hat heute wieder mit uns ...      7   \n",
       "2921  Hütter: Bei @bensebainiRams hoffen wir, dass e...      8   \n",
       "2922  Sportdirektor Max Eberl und Cheftrainer Adi Hü...      6   \n",
       "2923  🎙 Spieltags-PK mit Max Eberl &amp; Adi Hütter\\...     50   \n",
       "2924  Borussia x @UFLgame\\n\\nDemnächst erscheint die...    868   \n",
       "\n",
       "                          time              source  retweets  \n",
       "0    2022-07-10 16:44:29+00:00  Twitter for iPhone         4  \n",
       "1    2022-07-10 16:23:29+00:00  Twitter for iPhone         4  \n",
       "2    2022-07-10 15:13:03+00:00  Twitter for iPhone        13  \n",
       "3    2022-07-10 14:16:58+00:00     Twitter Web App        10  \n",
       "4    2022-07-10 13:40:15+00:00  Twitter for iPhone         4  \n",
       "...                        ...                 ...       ...  \n",
       "2920 2021-11-18 12:06:35+00:00     Twitter Web App         0  \n",
       "2921 2021-11-18 12:06:04+00:00     Twitter Web App         0  \n",
       "2922 2021-11-18 12:01:53+00:00     Twitter Web App         0  \n",
       "2923 2021-11-18 11:31:10+00:00     Twitter Web App         2  \n",
       "2924 2021-11-18 09:38:14+00:00     Twitter Web App        65  \n",
       "\n",
       "[2925 rows x 5 columns]"
      ]
     },
     "metadata": {},
     "output_type": "display_data"
    }
   ],
   "source": [
    "# Drop all retweets from column tweets and reset the index\n",
    "\n",
    "df = df[~df.tweets.str.contains('RT')]\n",
    "df = df.reset_index(drop=True)\n",
    "display(df)\n",
    "\n",
    "# 2925 rows remainaing, there were only 75 retweets. Now we need to reset the index. Lets start with analyzing the data!\n"
   ]
  },
  {
   "cell_type": "code",
   "execution_count": 12,
   "metadata": {},
   "outputs": [],
   "source": [
    "# add a cloumn containing the length of tweets\n",
    "\n",
    "df['tweet_length'] = df['tweets'].apply(len)\n",
    "\n",
    "# add a cloumn differiantiate between citations (1) and non-citations (0)\n",
    "\n",
    "df['zitat'] = df.tweets.str.contains(': ')\n",
    "df['zitat'] = df.zitat.astype('int')"
   ]
  },
  {
   "cell_type": "markdown",
   "metadata": {},
   "source": [
    "Save as csv file"
   ]
  },
  {
   "cell_type": "code",
   "execution_count": 13,
   "metadata": {},
   "outputs": [],
   "source": [
    "df.to_csv('twitter_bgm.csv', index=False)"
   ]
  },
  {
   "cell_type": "code",
   "execution_count": 14,
   "metadata": {},
   "outputs": [],
   "source": [
    "df = pd.read_csv('twitter_bgm.csv')"
   ]
  },
  {
   "cell_type": "code",
   "execution_count": 15,
   "metadata": {},
   "outputs": [
    {
     "data": {
      "text/html": [
       "<div>\n",
       "<style scoped>\n",
       "    .dataframe tbody tr th:only-of-type {\n",
       "        vertical-align: middle;\n",
       "    }\n",
       "\n",
       "    .dataframe tbody tr th {\n",
       "        vertical-align: top;\n",
       "    }\n",
       "\n",
       "    .dataframe thead th {\n",
       "        text-align: right;\n",
       "    }\n",
       "</style>\n",
       "<table border=\"1\" class=\"dataframe\">\n",
       "  <thead>\n",
       "    <tr style=\"text-align: right;\">\n",
       "      <th></th>\n",
       "      <th>likes</th>\n",
       "      <th>retweets</th>\n",
       "      <th>tweet_length</th>\n",
       "      <th>zitat</th>\n",
       "    </tr>\n",
       "  </thead>\n",
       "  <tbody>\n",
       "    <tr>\n",
       "      <th>likes</th>\n",
       "      <td>1.000000</td>\n",
       "      <td>0.879579</td>\n",
       "      <td>-0.053324</td>\n",
       "      <td>-0.148230</td>\n",
       "    </tr>\n",
       "    <tr>\n",
       "      <th>retweets</th>\n",
       "      <td>0.879579</td>\n",
       "      <td>1.000000</td>\n",
       "      <td>-0.003160</td>\n",
       "      <td>-0.065737</td>\n",
       "    </tr>\n",
       "    <tr>\n",
       "      <th>tweet_length</th>\n",
       "      <td>-0.053324</td>\n",
       "      <td>-0.003160</td>\n",
       "      <td>1.000000</td>\n",
       "      <td>0.224881</td>\n",
       "    </tr>\n",
       "    <tr>\n",
       "      <th>zitat</th>\n",
       "      <td>-0.148230</td>\n",
       "      <td>-0.065737</td>\n",
       "      <td>0.224881</td>\n",
       "      <td>1.000000</td>\n",
       "    </tr>\n",
       "  </tbody>\n",
       "</table>\n",
       "</div>"
      ],
      "text/plain": [
       "                 likes  retweets  tweet_length     zitat\n",
       "likes         1.000000  0.879579     -0.053324 -0.148230\n",
       "retweets      0.879579  1.000000     -0.003160 -0.065737\n",
       "tweet_length -0.053324 -0.003160      1.000000  0.224881\n",
       "zitat        -0.148230 -0.065737      0.224881  1.000000"
      ]
     },
     "execution_count": 15,
     "metadata": {},
     "output_type": "execute_result"
    }
   ],
   "source": [
    "# check correlations\n",
    "\n",
    "df.corr()"
   ]
  },
  {
   "cell_type": "markdown",
   "metadata": {},
   "source": [
    "High correlation between likes and retweets. Almost no correlation between tweet-length and likes/retweets"
   ]
  },
  {
   "cell_type": "code",
   "execution_count": 16,
   "metadata": {},
   "outputs": [
    {
     "data": {
      "text/plain": [
       "(0.19271909808766322, 0.9422872981076696)"
      ]
     },
     "execution_count": 16,
     "metadata": {},
     "output_type": "execute_result"
    }
   ],
   "source": [
    "# Checking for correlations concerning source used (caterogirial variable) and likes received\n",
    "\n",
    "from scipy import stats\n",
    " \n",
    "F, p = stats.f_oneway(df[df.source=='Twitter Web App'].likes,\n",
    "                      df[df.source=='Twitter for iPhone'].likes,\n",
    "                     df[df.source=='TweetDeck'].likes,\n",
    "                     df[df.source=='Twitter for Android'].likes,\n",
    "                     df[df.source=='Twitter for Advertisers'].likes)\n",
    "F, p"
   ]
  },
  {
   "cell_type": "markdown",
   "metadata": {},
   "source": [
    "There seems to be no correlation between source used and like received"
   ]
  },
  {
   "cell_type": "code",
   "execution_count": 17,
   "metadata": {},
   "outputs": [
    {
     "data": {
      "text/html": [
       "<div>\n",
       "<style scoped>\n",
       "    .dataframe tbody tr th:only-of-type {\n",
       "        vertical-align: middle;\n",
       "    }\n",
       "\n",
       "    .dataframe tbody tr th {\n",
       "        vertical-align: top;\n",
       "    }\n",
       "\n",
       "    .dataframe thead th {\n",
       "        text-align: right;\n",
       "    }\n",
       "</style>\n",
       "<table border=\"1\" class=\"dataframe\">\n",
       "  <thead>\n",
       "    <tr style=\"text-align: right;\">\n",
       "      <th></th>\n",
       "      <th>likes</th>\n",
       "      <th>retweets</th>\n",
       "      <th>tweet_length</th>\n",
       "      <th>zitat</th>\n",
       "    </tr>\n",
       "  </thead>\n",
       "  <tbody>\n",
       "    <tr>\n",
       "      <th>likes</th>\n",
       "      <td>1.000000</td>\n",
       "      <td>0.879579</td>\n",
       "      <td>-0.053324</td>\n",
       "      <td>-0.148230</td>\n",
       "    </tr>\n",
       "    <tr>\n",
       "      <th>retweets</th>\n",
       "      <td>0.879579</td>\n",
       "      <td>1.000000</td>\n",
       "      <td>-0.003160</td>\n",
       "      <td>-0.065737</td>\n",
       "    </tr>\n",
       "    <tr>\n",
       "      <th>tweet_length</th>\n",
       "      <td>-0.053324</td>\n",
       "      <td>-0.003160</td>\n",
       "      <td>1.000000</td>\n",
       "      <td>0.224881</td>\n",
       "    </tr>\n",
       "    <tr>\n",
       "      <th>zitat</th>\n",
       "      <td>-0.148230</td>\n",
       "      <td>-0.065737</td>\n",
       "      <td>0.224881</td>\n",
       "      <td>1.000000</td>\n",
       "    </tr>\n",
       "  </tbody>\n",
       "</table>\n",
       "</div>"
      ],
      "text/plain": [
       "                 likes  retweets  tweet_length     zitat\n",
       "likes         1.000000  0.879579     -0.053324 -0.148230\n",
       "retweets      0.879579  1.000000     -0.003160 -0.065737\n",
       "tweet_length -0.053324 -0.003160      1.000000  0.224881\n",
       "zitat        -0.148230 -0.065737      0.224881  1.000000"
      ]
     },
     "execution_count": 17,
     "metadata": {},
     "output_type": "execute_result"
    }
   ],
   "source": [
    "df['zitat'] = df.tweets.str.contains(': ')\n",
    "df['zitat'] = df.zitat.astype('int')\n",
    "df.corr()"
   ]
  },
  {
   "cell_type": "markdown",
   "metadata": {},
   "source": [
    "A small negative correlation between citations and likes received (-0.15)"
   ]
  },
  {
   "cell_type": "markdown",
   "metadata": {},
   "source": [
    "## Analyzing Top 100 and Flop 100 Tweets"
   ]
  },
  {
   "cell_type": "code",
   "execution_count": 18,
   "metadata": {},
   "outputs": [],
   "source": [
    "top100_likes = df.sort_values('likes',ascending = False).iloc[:100,:]\n",
    "flop100_likes = df.sort_values('likes',ascending = True).iloc[:100,:]"
   ]
  },
  {
   "cell_type": "code",
   "execution_count": 136,
   "metadata": {},
   "outputs": [
    {
     "name": "stderr",
     "output_type": "stream",
     "text": [
      "C:\\Users\\gmult\\AppData\\Local\\Temp\\ipykernel_9960\\3462665596.py:4: FutureWarning: Passing a negative integer is deprecated in version 1.0 and will not be supported in future version. Instead, use None to not limit the column width.\n",
      "  pd.set_option('display.max_colwidth', -1)\n"
     ]
    }
   ],
   "source": [
    "pd.set_option('display.max_rows', None)\n",
    "pd.set_option('display.max_columns', None)\n",
    "pd.set_option('display.width', None)\n",
    "pd.set_option('display.max_colwidth', -1)"
   ]
  },
  {
   "cell_type": "markdown",
   "metadata": {},
   "source": [
    "Create WordCloud for top100_likes and flop100_likes"
   ]
  },
  {
   "cell_type": "code",
   "execution_count": 19,
   "metadata": {},
   "outputs": [],
   "source": [
    "text100 = top100_likes['tweets']\n",
    "text100.to_csv('top100.csv', index=False)\n",
    "\n",
    "flop100 = flop100_likes['tweets']\n",
    "flop100.to_csv('flop100.csv', index=False)"
   ]
  },
  {
   "cell_type": "code",
   "execution_count": 20,
   "metadata": {},
   "outputs": [],
   "source": [
    "top_text = open('top100.csv', mode='r', encoding='utf-8').read()\n",
    "flop_text = open('flop100.csv', mode='r', encoding='utf-8').read()\n"
   ]
  },
  {
   "cell_type": "markdown",
   "metadata": {},
   "source": []
  },
  {
   "cell_type": "code",
   "execution_count": 21,
   "metadata": {},
   "outputs": [],
   "source": [
    "# List notwords include fill word in german, that are used widely without much information for the wordcloud (filling words).\n",
    "\n",
    "notwords = \"mit nicht https ein nach einen wird uns wieder zu gut wie sehr alle sich sie wie es noch haben auch aber eine viele sind er werden aber dann aus sein t co de zum dass deine dem und in für bei hat da von Der das den wir ist die auf im Borussia\"\n",
    "list_notwords = notwords.split()\n",
    "STOPWORDS.update(list_notwords)"
   ]
  },
  {
   "cell_type": "code",
   "execution_count": 24,
   "metadata": {},
   "outputs": [
    {
     "data": {
      "text/plain": [
       "<wordcloud.wordcloud.WordCloud at 0x16846b6bd60>"
      ]
     },
     "execution_count": 24,
     "metadata": {},
     "output_type": "execute_result"
    }
   ],
   "source": [
    "x, y = np.ogrid[:1000, :1000]\n",
    "\n",
    "mask = (x - 500) ** 2 + (y - 500) ** 2 > 400 ** 2\n",
    "mask = 255 * mask.astype(int)\n",
    "\n",
    "wc = WordCloud(\n",
    "                background_color=\"white\",\n",
    "                stopwords=STOPWORDS,\n",
    "                width=600, \n",
    "                height=400, \n",
    "                mask=mask).generate(top_text)\n",
    "\n",
    "wc.to_file('top100_wordcloud.png')\n",
    "\n",
    "wclast = WordCloud(\n",
    "                background_color=\"grey\",\n",
    "                stopwords=STOPWORDS,\n",
    "                width=600, \n",
    "                height=400, \n",
    "                mask=mask).generate(flop_text)\n",
    "\n",
    "wclast.to_file('flop100_wordcloud.png')"
   ]
  },
  {
   "cell_type": "code",
   "execution_count": null,
   "metadata": {},
   "outputs": [],
   "source": []
  }
 ],
 "metadata": {
  "kernelspec": {
   "display_name": "Python 3.10.2 ('minimal_ds')",
   "language": "python",
   "name": "python3"
  },
  "language_info": {
   "codemirror_mode": {
    "name": "ipython",
    "version": 3
   },
   "file_extension": ".py",
   "mimetype": "text/x-python",
   "name": "python",
   "nbconvert_exporter": "python",
   "pygments_lexer": "ipython3",
   "version": "3.10.2"
  },
  "orig_nbformat": 4,
  "vscode": {
   "interpreter": {
    "hash": "5011990a1eed5835cf1a727b4ace09313e35f02e4b8ddfbac4ee691bdd181ac2"
   }
  }
 },
 "nbformat": 4,
 "nbformat_minor": 2
}
